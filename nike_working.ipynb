{
 "cells": [
  {
   "cell_type": "code",
   "execution_count": 1,
   "id": "cd479eff",
   "metadata": {},
   "outputs": [],
   "source": [
    "import pandas as pd\n",
    "import numpy as np\n",
    "\n",
    "import seaborn as sns\n",
    "\n",
    "import matplotlib.pyplot as plt\n",
    "import matplotlib_inline\n",
    "\n",
    "import re \n"
   ]
  },
  {
   "cell_type": "code",
   "execution_count": 2,
   "id": "8630669d",
   "metadata": {},
   "outputs": [],
   "source": [
    "dfc = pd.read_csv('nike_data_2022_09.csv')"
   ]
  },
  {
   "cell_type": "code",
   "execution_count": 3,
   "id": "424bd1ef",
   "metadata": {},
   "outputs": [],
   "source": [
    "df = dfc.copy()"
   ]
  },
  {
   "cell_type": "code",
   "execution_count": 4,
   "id": "d3b28abb",
   "metadata": {},
   "outputs": [],
   "source": [
    "df = df.drop(columns=(['scraped_at','images','raw_description','description','url']))"
   ]
  },
  {
   "cell_type": "code",
   "execution_count": 5,
   "id": "aaa7384e",
   "metadata": {},
   "outputs": [],
   "source": [
    "uniq = [i for i in range(112)]"
   ]
  },
  {
   "cell_type": "code",
   "execution_count": 6,
   "id": "9380712c",
   "metadata": {},
   "outputs": [],
   "source": [
    "# replace unique id for the purpose of visuals and modeling\n",
    "df.uniq_id = uniq\n"
   ]
  },
  {
   "cell_type": "code",
   "execution_count": 7,
   "id": "aba5625a",
   "metadata": {},
   "outputs": [
    {
     "data": {
      "text/plain": [
       "0                              Men's Long-Sleeve T-Shirt\n",
       "1               Women's Nike Dri-FIT Soccer Jersey Dress\n",
       "2                                         Men's Overalls\n",
       "3      Big Kids' (Girls') Printed Tights (Extended Size)\n",
       "4                                Big Kids' Soccer Jacket\n",
       "                             ...                        \n",
       "107                                     Basketball Shoes\n",
       "108                                           Men's Polo\n",
       "109                    Big Kids' (Boys') Full-Zip Jacket\n",
       "110                        Men's Limited Football Jersey\n",
       "111                              Women's Cropped T-Shirt\n",
       "Name: sub_title, Length: 112, dtype: object"
      ]
     },
     "execution_count": 7,
     "metadata": {},
     "output_type": "execute_result"
    }
   ],
   "source": [
    "df.sub_title "
   ]
  },
  {
   "cell_type": "code",
   "execution_count": 8,
   "id": "09c3200f",
   "metadata": {},
   "outputs": [
    {
     "data": {
      "text/plain": [
       "\"Men's Long-Sleeve T-Shirt\""
      ]
     },
     "execution_count": 8,
     "metadata": {},
     "output_type": "execute_result"
    }
   ],
   "source": [
    "df.sub_title[0]\n",
    "\n"
   ]
  },
  {
   "cell_type": "code",
   "execution_count": 9,
   "id": "e6676e4f",
   "metadata": {},
   "outputs": [
    {
     "name": "stdout",
     "output_type": "stream",
     "text": [
      "0\n"
     ]
    }
   ],
   "source": [
    "sex = df.sub_title[0].find(\"Men\")\n",
    "print(sex)"
   ]
  },
  {
   "cell_type": "code",
   "execution_count": 10,
   "id": "a7453ddc",
   "metadata": {},
   "outputs": [],
   "source": [
    "df['sex'] = 0"
   ]
  },
  {
   "cell_type": "code",
   "execution_count": 11,
   "id": "35784f3d",
   "metadata": {},
   "outputs": [
    {
     "data": {
      "text/html": [
       "<div>\n",
       "<style scoped>\n",
       "    .dataframe tbody tr th:only-of-type {\n",
       "        vertical-align: middle;\n",
       "    }\n",
       "\n",
       "    .dataframe tbody tr th {\n",
       "        vertical-align: top;\n",
       "    }\n",
       "\n",
       "    .dataframe thead th {\n",
       "        text-align: right;\n",
       "    }\n",
       "</style>\n",
       "<table border=\"1\" class=\"dataframe\">\n",
       "  <thead>\n",
       "    <tr style=\"text-align: right;\">\n",
       "      <th></th>\n",
       "      <th>name</th>\n",
       "      <th>sub_title</th>\n",
       "      <th>brand</th>\n",
       "      <th>model</th>\n",
       "      <th>color</th>\n",
       "      <th>price</th>\n",
       "      <th>currency</th>\n",
       "      <th>availability</th>\n",
       "      <th>avg_rating</th>\n",
       "      <th>review_count</th>\n",
       "      <th>available_sizes</th>\n",
       "      <th>uniq_id</th>\n",
       "      <th>sex</th>\n",
       "    </tr>\n",
       "  </thead>\n",
       "  <tbody>\n",
       "    <tr>\n",
       "      <th>0</th>\n",
       "      <td>Nike Dri-FIT Team (MLB Minnesota Twins)</td>\n",
       "      <td>Men's Long-Sleeve T-Shirt</td>\n",
       "      <td>Nike</td>\n",
       "      <td>14226571</td>\n",
       "      <td>Navy</td>\n",
       "      <td>40.0</td>\n",
       "      <td>USD</td>\n",
       "      <td>InStock</td>\n",
       "      <td>NaN</td>\n",
       "      <td>NaN</td>\n",
       "      <td>S | M | L | XL | 2XL</td>\n",
       "      <td>0</td>\n",
       "      <td>0</td>\n",
       "    </tr>\n",
       "  </tbody>\n",
       "</table>\n",
       "</div>"
      ],
      "text/plain": [
       "                                      name                  sub_title brand  \\\n",
       "0  Nike Dri-FIT Team (MLB Minnesota Twins)  Men's Long-Sleeve T-Shirt  Nike   \n",
       "\n",
       "      model color  price currency availability  avg_rating  review_count  \\\n",
       "0  14226571  Navy   40.0      USD      InStock         NaN           NaN   \n",
       "\n",
       "        available_sizes  uniq_id  sex  \n",
       "0  S | M | L | XL | 2XL        0    0  "
      ]
     },
     "execution_count": 11,
     "metadata": {},
     "output_type": "execute_result"
    }
   ],
   "source": [
    "df.head(1)"
   ]
  },
  {
   "cell_type": "code",
   "execution_count": 12,
   "id": "8d90909d",
   "metadata": {},
   "outputs": [],
   "source": [
    "# define a function to extract gender specificity labels\n",
    "def get_gender_label(sub_title):\n",
    "    if 'Men' in sub_title:\n",
    "        return 'm'\n",
    "    elif 'Women' in sub_title:\n",
    "        return 'w'\n",
    "    elif 'Boy' in sub_title:\n",
    "        return 'b'\n",
    "    elif 'Girl' in sub_title:\n",
    "        return 'g'\n",
    "    elif 'Kids' in sub_title:\n",
    "        return 'k'\n",
    "    elif 'Toddler' in sub_title:\n",
    "        return 'k' \n",
    "    else:\n",
    "        return 'u'  # if not matched, return 'u' for unknown\n",
    "\n"
   ]
  },
  {
   "cell_type": "code",
   "execution_count": 13,
   "id": "f4458083",
   "metadata": {},
   "outputs": [],
   "source": [
    "\n",
    "# create an empty list to store gender labels\n",
    "gender_labels = []\n",
    "\n",
    "# loop through the sub_titles column and apply the get_gender_label function to each element\n",
    "for i in range(len(df['sub_title'])):\n",
    "    gender_label = get_gender_label(df['sub_title'][i])\n",
    "    gender_labels.append(gender_label)\n",
    "\n",
    "# create a new column for gender labels\n",
    "df['gender'] = gender_labels\n",
    "\n"
   ]
  },
  {
   "cell_type": "code",
   "execution_count": 14,
   "id": "88986869",
   "metadata": {},
   "outputs": [
    {
     "data": {
      "text/plain": [
       "m    49\n",
       "w    20\n",
       "k    18\n",
       "u    18\n",
       "b     5\n",
       "g     2\n",
       "Name: gender, dtype: int64"
      ]
     },
     "execution_count": 14,
     "metadata": {},
     "output_type": "execute_result"
    }
   ],
   "source": [
    "# this lets me specify by sex\n",
    "df.gender.value_counts()"
   ]
  },
  {
   "cell_type": "code",
   "execution_count": 15,
   "id": "888c113a",
   "metadata": {},
   "outputs": [],
   "source": [
    "df = df.drop(columns= ['avg_rating','review_count'])"
   ]
  },
  {
   "cell_type": "code",
   "execution_count": 16,
   "id": "9d4ea219",
   "metadata": {},
   "outputs": [],
   "source": [
    "categorical = df.select_dtypes(include = object)"
   ]
  },
  {
   "cell_type": "code",
   "execution_count": 17,
   "id": "0e5d6f43",
   "metadata": {},
   "outputs": [
    {
     "data": {
      "text/html": [
       "<div>\n",
       "<style scoped>\n",
       "    .dataframe tbody tr th:only-of-type {\n",
       "        vertical-align: middle;\n",
       "    }\n",
       "\n",
       "    .dataframe tbody tr th {\n",
       "        vertical-align: top;\n",
       "    }\n",
       "\n",
       "    .dataframe thead th {\n",
       "        text-align: right;\n",
       "    }\n",
       "</style>\n",
       "<table border=\"1\" class=\"dataframe\">\n",
       "  <thead>\n",
       "    <tr style=\"text-align: right;\">\n",
       "      <th></th>\n",
       "      <th>name</th>\n",
       "      <th>sub_title</th>\n",
       "      <th>brand</th>\n",
       "      <th>color</th>\n",
       "      <th>currency</th>\n",
       "      <th>availability</th>\n",
       "      <th>available_sizes</th>\n",
       "      <th>gender</th>\n",
       "    </tr>\n",
       "  </thead>\n",
       "  <tbody>\n",
       "    <tr>\n",
       "      <th>0</th>\n",
       "      <td>Nike Dri-FIT Team (MLB Minnesota Twins)</td>\n",
       "      <td>Men's Long-Sleeve T-Shirt</td>\n",
       "      <td>Nike</td>\n",
       "      <td>Navy</td>\n",
       "      <td>USD</td>\n",
       "      <td>InStock</td>\n",
       "      <td>S | M | L | XL | 2XL</td>\n",
       "      <td>m</td>\n",
       "    </tr>\n",
       "  </tbody>\n",
       "</table>\n",
       "</div>"
      ],
      "text/plain": [
       "                                      name                  sub_title brand  \\\n",
       "0  Nike Dri-FIT Team (MLB Minnesota Twins)  Men's Long-Sleeve T-Shirt  Nike   \n",
       "\n",
       "  color currency availability       available_sizes gender  \n",
       "0  Navy      USD      InStock  S | M | L | XL | 2XL      m  "
      ]
     },
     "execution_count": 17,
     "metadata": {},
     "output_type": "execute_result"
    }
   ],
   "source": [
    "categorical.head(1)"
   ]
  },
  {
   "cell_type": "code",
   "execution_count": 18,
   "id": "1bb86cd2",
   "metadata": {},
   "outputs": [],
   "source": [
    "numerical = df.select_dtypes(exclude = object)"
   ]
  },
  {
   "cell_type": "code",
   "execution_count": 19,
   "id": "862a35ed",
   "metadata": {},
   "outputs": [],
   "source": [
    "numerical = numerical.drop(columns = ['uniq_id','model'])"
   ]
  },
  {
   "cell_type": "code",
   "execution_count": 20,
   "id": "cd43ce67",
   "metadata": {},
   "outputs": [
    {
     "data": {
      "text/html": [
       "<div>\n",
       "<style scoped>\n",
       "    .dataframe tbody tr th:only-of-type {\n",
       "        vertical-align: middle;\n",
       "    }\n",
       "\n",
       "    .dataframe tbody tr th {\n",
       "        vertical-align: top;\n",
       "    }\n",
       "\n",
       "    .dataframe thead th {\n",
       "        text-align: right;\n",
       "    }\n",
       "</style>\n",
       "<table border=\"1\" class=\"dataframe\">\n",
       "  <thead>\n",
       "    <tr style=\"text-align: right;\">\n",
       "      <th></th>\n",
       "      <th>price</th>\n",
       "      <th>sex</th>\n",
       "    </tr>\n",
       "  </thead>\n",
       "  <tbody>\n",
       "    <tr>\n",
       "      <th>0</th>\n",
       "      <td>40.00</td>\n",
       "      <td>0</td>\n",
       "    </tr>\n",
       "    <tr>\n",
       "      <th>1</th>\n",
       "      <td>90.00</td>\n",
       "      <td>0</td>\n",
       "    </tr>\n",
       "    <tr>\n",
       "      <th>2</th>\n",
       "      <td>140.00</td>\n",
       "      <td>0</td>\n",
       "    </tr>\n",
       "    <tr>\n",
       "      <th>3</th>\n",
       "      <td>22.97</td>\n",
       "      <td>0</td>\n",
       "    </tr>\n",
       "    <tr>\n",
       "      <th>4</th>\n",
       "      <td>70.00</td>\n",
       "      <td>0</td>\n",
       "    </tr>\n",
       "    <tr>\n",
       "      <th>...</th>\n",
       "      <td>...</td>\n",
       "      <td>...</td>\n",
       "    </tr>\n",
       "    <tr>\n",
       "      <th>107</th>\n",
       "      <td>165.00</td>\n",
       "      <td>0</td>\n",
       "    </tr>\n",
       "    <tr>\n",
       "      <th>108</th>\n",
       "      <td>50.00</td>\n",
       "      <td>0</td>\n",
       "    </tr>\n",
       "    <tr>\n",
       "      <th>109</th>\n",
       "      <td>75.00</td>\n",
       "      <td>0</td>\n",
       "    </tr>\n",
       "    <tr>\n",
       "      <th>110</th>\n",
       "      <td>160.00</td>\n",
       "      <td>0</td>\n",
       "    </tr>\n",
       "    <tr>\n",
       "      <th>111</th>\n",
       "      <td>35.00</td>\n",
       "      <td>0</td>\n",
       "    </tr>\n",
       "  </tbody>\n",
       "</table>\n",
       "<p>112 rows × 2 columns</p>\n",
       "</div>"
      ],
      "text/plain": [
       "      price  sex\n",
       "0     40.00    0\n",
       "1     90.00    0\n",
       "2    140.00    0\n",
       "3     22.97    0\n",
       "4     70.00    0\n",
       "..      ...  ...\n",
       "107  165.00    0\n",
       "108   50.00    0\n",
       "109   75.00    0\n",
       "110  160.00    0\n",
       "111   35.00    0\n",
       "\n",
       "[112 rows x 2 columns]"
      ]
     },
     "execution_count": 20,
     "metadata": {},
     "output_type": "execute_result"
    }
   ],
   "source": [
    "numerical"
   ]
  },
  {
   "cell_type": "code",
   "execution_count": 21,
   "id": "34bfe0bc",
   "metadata": {},
   "outputs": [
    {
     "data": {
      "text/plain": [
       "<seaborn.axisgrid.FacetGrid at 0x234927d39d0>"
      ]
     },
     "execution_count": 21,
     "metadata": {},
     "output_type": "execute_result"
    },
    {
     "data": {
      "image/png": "[encoded data removed]",
      "text/plain": [
       "<Figure size 584.625x500 with 1 Axes>"
      ]
     },
     "metadata": {},
     "output_type": "display_data"
    }
   ],
   "source": [
    "sns.displot(data = numerical)"
   ]
  },
  {
   "cell_type": "markdown",
   "id": "6a5d8bfa",
   "metadata": {},
   "source": [
    "# takeaways\n",
    "* our highest price is around 175\n",
    "* our lowest price is around 25\n",
    "* our most sold item are around 50\n",
    "\n"
   ]
  },
  {
   "cell_type": "code",
   "execution_count": 23,
   "id": "a0cfd6aa",
   "metadata": {},
   "outputs": [
    {
     "data": {
      "image/png": "[encoded data removed]",
      "text/plain": [
       "<Figure size 640x480 with 1 Axes>"
      ]
     },
     "metadata": {},
     "output_type": "display_data"
    }
   ],
   "source": [
    "sns.boxplot(x=numerical.price)\n",
    "plt.show()\n"
   ]
  },
  {
   "cell_type": "markdown",
   "id": "6a9a41f4",
   "metadata": {},
   "source": [
    "# investigate outlier"
   ]
  },
  {
   "cell_type": "code",
   "execution_count": 24,
   "id": "1cee52f9",
   "metadata": {},
   "outputs": [
    {
     "data": {
      "text/html": [
       "<div>\n",
       "<style scoped>\n",
       "    .dataframe tbody tr th:only-of-type {\n",
       "        vertical-align: middle;\n",
       "    }\n",
       "\n",
       "    .dataframe tbody tr th {\n",
       "        vertical-align: top;\n",
       "    }\n",
       "\n",
       "    .dataframe thead th {\n",
       "        text-align: right;\n",
       "    }\n",
       "</style>\n",
       "<table border=\"1\" class=\"dataframe\">\n",
       "  <thead>\n",
       "    <tr style=\"text-align: right;\">\n",
       "      <th></th>\n",
       "      <th>name</th>\n",
       "      <th>sub_title</th>\n",
       "      <th>brand</th>\n",
       "      <th>model</th>\n",
       "      <th>color</th>\n",
       "      <th>price</th>\n",
       "      <th>currency</th>\n",
       "      <th>availability</th>\n",
       "      <th>available_sizes</th>\n",
       "      <th>uniq_id</th>\n",
       "      <th>sex</th>\n",
       "      <th>gender</th>\n",
       "    </tr>\n",
       "  </thead>\n",
       "  <tbody>\n",
       "    <tr>\n",
       "      <th>68</th>\n",
       "      <td>Air Jordan XXXVI Low Luka PF</td>\n",
       "      <td>Men's Basketball Shoes</td>\n",
       "      <td>Nike</td>\n",
       "      <td>13828097</td>\n",
       "      <td>Laser Blue/Electro Purple/Pink Prime/Electric ...</td>\n",
       "      <td>175.0</td>\n",
       "      <td>USD</td>\n",
       "      <td>InStock</td>\n",
       "      <td>M 7 / W 8.5 | M 7.5 / W 9 | M 8 / W 9.5 | M 8....</td>\n",
       "      <td>68</td>\n",
       "      <td>0</td>\n",
       "      <td>m</td>\n",
       "    </tr>\n",
       "  </tbody>\n",
       "</table>\n",
       "</div>"
      ],
      "text/plain": [
       "                            name               sub_title brand     model  \\\n",
       "68  Air Jordan XXXVI Low Luka PF  Men's Basketball Shoes  Nike  13828097   \n",
       "\n",
       "                                                color  price currency  \\\n",
       "68  Laser Blue/Electro Purple/Pink Prime/Electric ...  175.0      USD   \n",
       "\n",
       "   availability                                    available_sizes  uniq_id  \\\n",
       "68      InStock  M 7 / W 8.5 | M 7.5 / W 9 | M 8 / W 9.5 | M 8....       68   \n",
       "\n",
       "    sex gender  \n",
       "68    0      m  "
      ]
     },
     "execution_count": 24,
     "metadata": {},
     "output_type": "execute_result"
    }
   ],
   "source": [
    "df[df.price == 175] "
   ]
  },
  {
   "cell_type": "code",
   "execution_count": 26,
   "id": "6a9b82c1",
   "metadata": {},
   "outputs": [
    {
     "data": {
      "image/png": "[encoded data removed]",
      "text/plain": [
       "<Figure size 640x480 with 1 Axes>"
      ]
     },
     "metadata": {},
     "output_type": "display_data"
    },
    {
     "data": {
      "image/png": "[encoded data removed]",
      "text/plain": [
       "<Figure size 640x480 with 1 Axes>"
      ]
     },
     "metadata": {},
     "output_type": "display_data"
    },
    {
     "data": {
      "image/png": "[encoded data removed]",
      "text/plain": [
       "<Figure size 640x480 with 1 Axes>"
      ]
     },
     "metadata": {},
     "output_type": "display_data"
    },
    {
     "data": {
      "image/png": "[encoded data removed]",
      "text/plain": [
       "<Figure size 640x480 with 1 Axes>"
      ]
     },
     "metadata": {},
     "output_type": "display_data"
    },
    {
     "data": {
      "image/png": "[encoded data removed]",
      "text/plain": [
       "<Figure size 640x480 with 1 Axes>"
      ]
     },
     "metadata": {},
     "output_type": "display_data"
    },
    {
     "data": {
      "image/png": "[encoded data removed]",
      "text/plain": [
       "<Figure size 640x480 with 1 Axes>"
      ]
     },
     "metadata": {},
     "output_type": "display_data"
    },
    {
     "data": {
      "image/png": "[encoded data removed]",
      "text/plain": [
       "<Figure size 640x480 with 1 Axes>"
      ]
     },
     "metadata": {},
     "output_type": "display_data"
    },
    {
     "data": {
      "image/png": "[encoded data removed]",
      "text/plain": [
       "<Figure size 640x480 with 1 Axes>"
      ]
     },
     "metadata": {},
     "output_type": "display_data"
    }
   ],
   "source": [
    "for column in categorical.columns:\n",
    "    \n",
    "    sns.countplot(data = categorical, x = column)\n",
    "    plt.show()"
   ]
  },
  {
   "cell_type": "code",
   "execution_count": 28,
   "id": "5a637de3",
   "metadata": {},
   "outputs": [],
   "source": [
    "df = df.drop(columns = ['sex','brand','model'])"
   ]
  },
  {
   "cell_type": "code",
   "execution_count": 31,
   "id": "42185e02",
   "metadata": {},
   "outputs": [],
   "source": [
    "df = df.set_index(df.uniq_id)"
   ]
  },
  {
   "cell_type": "code",
   "execution_count": 33,
   "id": "98a877cc",
   "metadata": {},
   "outputs": [],
   "source": [
    "df = df.drop(columns = ['uniq_id'])"
   ]
  },
  {
   "cell_type": "code",
   "execution_count": 59,
   "id": "e686def6",
   "metadata": {},
   "outputs": [],
   "source": [
    "df.to_csv('modelNike.csv')"
   ]
  },
  {
   "cell_type": "markdown",
   "id": "014f7d27",
   "metadata": {},
   "source": [
    "# function to replace availability"
   ]
  },
  {
   "cell_type": "code",
   "execution_count": 38,
   "id": "d05856db",
   "metadata": {},
   "outputs": [
    {
     "data": {
      "text/html": [
       "<div>\n",
       "<style scoped>\n",
       "    .dataframe tbody tr th:only-of-type {\n",
       "        vertical-align: middle;\n",
       "    }\n",
       "\n",
       "    .dataframe tbody tr th {\n",
       "        vertical-align: top;\n",
       "    }\n",
       "\n",
       "    .dataframe thead th {\n",
       "        text-align: right;\n",
       "    }\n",
       "</style>\n",
       "<table border=\"1\" class=\"dataframe\">\n",
       "  <thead>\n",
       "    <tr style=\"text-align: right;\">\n",
       "      <th></th>\n",
       "      <th>name</th>\n",
       "      <th>sub_title</th>\n",
       "      <th>color</th>\n",
       "      <th>price</th>\n",
       "      <th>currency</th>\n",
       "      <th>availability</th>\n",
       "      <th>available_sizes</th>\n",
       "      <th>gender</th>\n",
       "    </tr>\n",
       "    <tr>\n",
       "      <th>uniq_id</th>\n",
       "      <th></th>\n",
       "      <th></th>\n",
       "      <th></th>\n",
       "      <th></th>\n",
       "      <th></th>\n",
       "      <th></th>\n",
       "      <th></th>\n",
       "      <th></th>\n",
       "    </tr>\n",
       "  </thead>\n",
       "  <tbody>\n",
       "    <tr>\n",
       "      <th>0</th>\n",
       "      <td>Nike Dri-FIT Team (MLB Minnesota Twins)</td>\n",
       "      <td>Men's Long-Sleeve T-Shirt</td>\n",
       "      <td>Navy</td>\n",
       "      <td>40.0</td>\n",
       "      <td>USD</td>\n",
       "      <td>InStock</td>\n",
       "      <td>S | M | L | XL | 2XL</td>\n",
       "      <td>m</td>\n",
       "    </tr>\n",
       "  </tbody>\n",
       "</table>\n",
       "</div>"
      ],
      "text/plain": [
       "                                            name                  sub_title  \\\n",
       "uniq_id                                                                       \n",
       "0        Nike Dri-FIT Team (MLB Minnesota Twins)  Men's Long-Sleeve T-Shirt   \n",
       "\n",
       "        color  price currency availability       available_sizes gender  \n",
       "uniq_id                                                                  \n",
       "0        Navy   40.0      USD      InStock  S | M | L | XL | 2XL      m  "
      ]
     },
     "execution_count": 38,
     "metadata": {},
     "output_type": "execute_result"
    }
   ],
   "source": [
    "df.head(1)"
   ]
  },
  {
   "cell_type": "code",
   "execution_count": 56,
   "id": "93cea810",
   "metadata": {},
   "outputs": [
    {
     "name": "stderr",
     "output_type": "stream",
     "text": [
      "C:\\Users\\brand\\AppData\\Local\\Temp\\ipykernel_26564\\920863992.py:6: SettingWithCopyWarning: \n",
      "A value is trying to be set on a copy of a slice from a DataFrame\n",
      "\n",
      "See the caveats in the documentation: https://pandas.pydata.org/pandas-docs/stable/user_guide/indexing.html#returning-a-view-versus-a-copy\n",
      "  df.availability[i] = 0\n"
     ]
    }
   ],
   "source": [
    "# iterate over each value in the series and replace \"InStock\" with 1 and \"OutStock\" with 0\n",
    "for i in range(len(df.availability)):\n",
    "    if df.availability[i] == \"InStock\":\n",
    "        df.availability[i] = 1\n",
    "    elif df.availability[i] == \"OutOfStock\":\n",
    "        df.availability[i] = 0\n",
    "    elif df.availability[i] == \"OutOfStock\":\n",
    "        df.availability[i] = 0\n",
    "\n",
    "\n"
   ]
  },
  {
   "cell_type": "code",
   "execution_count": 57,
   "id": "8712c174",
   "metadata": {},
   "outputs": [
    {
     "data": {
      "text/plain": [
       "1    67\n",
       "0    41\n",
       "Name: availability, dtype: int64"
      ]
     },
     "execution_count": 57,
     "metadata": {},
     "output_type": "execute_result"
    }
   ],
   "source": [
    "df.availability.value_counts()"
   ]
  },
  {
   "cell_type": "code",
   "execution_count": 58,
   "id": "eb9df44b",
   "metadata": {},
   "outputs": [
    {
     "data": {
      "text/html": [
       "<div>\n",
       "<style scoped>\n",
       "    .dataframe tbody tr th:only-of-type {\n",
       "        vertical-align: middle;\n",
       "    }\n",
       "\n",
       "    .dataframe tbody tr th {\n",
       "        vertical-align: top;\n",
       "    }\n",
       "\n",
       "    .dataframe thead th {\n",
       "        text-align: right;\n",
       "    }\n",
       "</style>\n",
       "<table border=\"1\" class=\"dataframe\">\n",
       "  <thead>\n",
       "    <tr style=\"text-align: right;\">\n",
       "      <th></th>\n",
       "      <th>name</th>\n",
       "      <th>sub_title</th>\n",
       "      <th>color</th>\n",
       "      <th>price</th>\n",
       "      <th>currency</th>\n",
       "      <th>availability</th>\n",
       "      <th>available_sizes</th>\n",
       "      <th>gender</th>\n",
       "    </tr>\n",
       "    <tr>\n",
       "      <th>uniq_id</th>\n",
       "      <th></th>\n",
       "      <th></th>\n",
       "      <th></th>\n",
       "      <th></th>\n",
       "      <th></th>\n",
       "      <th></th>\n",
       "      <th></th>\n",
       "      <th></th>\n",
       "    </tr>\n",
       "  </thead>\n",
       "  <tbody>\n",
       "    <tr>\n",
       "      <th>0</th>\n",
       "      <td>Nike Dri-FIT Team (MLB Minnesota Twins)</td>\n",
       "      <td>Men's Long-Sleeve T-Shirt</td>\n",
       "      <td>Navy</td>\n",
       "      <td>40.00</td>\n",
       "      <td>USD</td>\n",
       "      <td>1</td>\n",
       "      <td>S | M | L | XL | 2XL</td>\n",
       "      <td>m</td>\n",
       "    </tr>\n",
       "    <tr>\n",
       "      <th>1</th>\n",
       "      <td>Club América</td>\n",
       "      <td>Women's Nike Dri-FIT Soccer Jersey Dress</td>\n",
       "      <td>Black/Black</td>\n",
       "      <td>90.00</td>\n",
       "      <td>USD</td>\n",
       "      <td>1</td>\n",
       "      <td>L (12–14)</td>\n",
       "      <td>w</td>\n",
       "    </tr>\n",
       "    <tr>\n",
       "      <th>2</th>\n",
       "      <td>Nike Sportswear Swoosh</td>\n",
       "      <td>Men's Overalls</td>\n",
       "      <td>Black/White</td>\n",
       "      <td>140.00</td>\n",
       "      <td>USD</td>\n",
       "      <td>0</td>\n",
       "      <td>NaN</td>\n",
       "      <td>m</td>\n",
       "    </tr>\n",
       "    <tr>\n",
       "      <th>3</th>\n",
       "      <td>Nike Dri-FIT One Luxe</td>\n",
       "      <td>Big Kids' (Girls') Printed Tights (Extended Size)</td>\n",
       "      <td>Black/Rush Pink</td>\n",
       "      <td>22.97</td>\n",
       "      <td>USD</td>\n",
       "      <td>0</td>\n",
       "      <td>NaN</td>\n",
       "      <td>g</td>\n",
       "    </tr>\n",
       "    <tr>\n",
       "      <th>4</th>\n",
       "      <td>Paris Saint-Germain Repel Academy AWF</td>\n",
       "      <td>Big Kids' Soccer Jacket</td>\n",
       "      <td>Dark Grey/Black/Siren Red/Siren Red</td>\n",
       "      <td>70.00</td>\n",
       "      <td>USD</td>\n",
       "      <td>1</td>\n",
       "      <td>XS | S | M | L | XL</td>\n",
       "      <td>k</td>\n",
       "    </tr>\n",
       "    <tr>\n",
       "      <th>...</th>\n",
       "      <td>...</td>\n",
       "      <td>...</td>\n",
       "      <td>...</td>\n",
       "      <td>...</td>\n",
       "      <td>...</td>\n",
       "      <td>...</td>\n",
       "      <td>...</td>\n",
       "      <td>...</td>\n",
       "    </tr>\n",
       "    <tr>\n",
       "      <th>107</th>\n",
       "      <td>Air Jordan XXXV Low DS PF</td>\n",
       "      <td>Basketball Shoes</td>\n",
       "      <td>Hyper Jade/Bright Crimson/Blue Orbit/Metallic ...</td>\n",
       "      <td>165.00</td>\n",
       "      <td>USD</td>\n",
       "      <td>1</td>\n",
       "      <td>NaN</td>\n",
       "      <td>u</td>\n",
       "    </tr>\n",
       "    <tr>\n",
       "      <th>108</th>\n",
       "      <td>Nike College Dri-FIT (UCLA)</td>\n",
       "      <td>Men's Polo</td>\n",
       "      <td>Signal Blue</td>\n",
       "      <td>50.00</td>\n",
       "      <td>USD</td>\n",
       "      <td>1</td>\n",
       "      <td>S | XL | 2XL</td>\n",
       "      <td>m</td>\n",
       "    </tr>\n",
       "    <tr>\n",
       "      <th>109</th>\n",
       "      <td>Jordan</td>\n",
       "      <td>Big Kids' (Boys') Full-Zip Jacket</td>\n",
       "      <td>Black</td>\n",
       "      <td>75.00</td>\n",
       "      <td>USD</td>\n",
       "      <td>0</td>\n",
       "      <td>NaN</td>\n",
       "      <td>b</td>\n",
       "    </tr>\n",
       "    <tr>\n",
       "      <th>110</th>\n",
       "      <td>NFL Los Angeles Rams Nike Vapor Untouchable (M...</td>\n",
       "      <td>Men's Limited Football Jersey</td>\n",
       "      <td>White</td>\n",
       "      <td>160.00</td>\n",
       "      <td>USD</td>\n",
       "      <td>1</td>\n",
       "      <td>M | L | XL | 2XL</td>\n",
       "      <td>m</td>\n",
       "    </tr>\n",
       "    <tr>\n",
       "      <th>111</th>\n",
       "      <td>Nike Team First (MLB Houston Astros)</td>\n",
       "      <td>Women's Cropped T-Shirt</td>\n",
       "      <td>Orange</td>\n",
       "      <td>35.00</td>\n",
       "      <td>USD</td>\n",
       "      <td>0</td>\n",
       "      <td>NaN</td>\n",
       "      <td>w</td>\n",
       "    </tr>\n",
       "  </tbody>\n",
       "</table>\n",
       "<p>112 rows × 8 columns</p>\n",
       "</div>"
      ],
      "text/plain": [
       "                                                      name  \\\n",
       "uniq_id                                                      \n",
       "0                  Nike Dri-FIT Team (MLB Minnesota Twins)   \n",
       "1                                             Club América   \n",
       "2                                   Nike Sportswear Swoosh   \n",
       "3                                    Nike Dri-FIT One Luxe   \n",
       "4                    Paris Saint-Germain Repel Academy AWF   \n",
       "...                                                    ...   \n",
       "107                              Air Jordan XXXV Low DS PF   \n",
       "108                            Nike College Dri-FIT (UCLA)   \n",
       "109                                                 Jordan   \n",
       "110      NFL Los Angeles Rams Nike Vapor Untouchable (M...   \n",
       "111                   Nike Team First (MLB Houston Astros)   \n",
       "\n",
       "                                                 sub_title  \\\n",
       "uniq_id                                                      \n",
       "0                                Men's Long-Sleeve T-Shirt   \n",
       "1                 Women's Nike Dri-FIT Soccer Jersey Dress   \n",
       "2                                           Men's Overalls   \n",
       "3        Big Kids' (Girls') Printed Tights (Extended Size)   \n",
       "4                                  Big Kids' Soccer Jacket   \n",
       "...                                                    ...   \n",
       "107                                       Basketball Shoes   \n",
       "108                                             Men's Polo   \n",
       "109                      Big Kids' (Boys') Full-Zip Jacket   \n",
       "110                          Men's Limited Football Jersey   \n",
       "111                                Women's Cropped T-Shirt   \n",
       "\n",
       "                                                     color   price currency  \\\n",
       "uniq_id                                                                       \n",
       "0                                                     Navy   40.00      USD   \n",
       "1                                              Black/Black   90.00      USD   \n",
       "2                                              Black/White  140.00      USD   \n",
       "3                                          Black/Rush Pink   22.97      USD   \n",
       "4                      Dark Grey/Black/Siren Red/Siren Red   70.00      USD   \n",
       "...                                                    ...     ...      ...   \n",
       "107      Hyper Jade/Bright Crimson/Blue Orbit/Metallic ...  165.00      USD   \n",
       "108                                            Signal Blue   50.00      USD   \n",
       "109                                                  Black   75.00      USD   \n",
       "110                                                  White  160.00      USD   \n",
       "111                                                 Orange   35.00      USD   \n",
       "\n",
       "        availability       available_sizes gender  \n",
       "uniq_id                                            \n",
       "0                  1  S | M | L | XL | 2XL      m  \n",
       "1                  1             L (12–14)      w  \n",
       "2                  0                   NaN      m  \n",
       "3                  0                   NaN      g  \n",
       "4                  1   XS | S | M | L | XL      k  \n",
       "...              ...                   ...    ...  \n",
       "107                1                   NaN      u  \n",
       "108                1          S | XL | 2XL      m  \n",
       "109                0                   NaN      b  \n",
       "110                1      M | L | XL | 2XL      m  \n",
       "111                0                   NaN      w  \n",
       "\n",
       "[112 rows x 8 columns]"
      ]
     },
     "execution_count": 58,
     "metadata": {},
     "output_type": "execute_result"
    }
   ],
   "source": [
    "df"
   ]
  },
  {
   "cell_type": "code",
   "execution_count": null,
   "id": "0b286957",
   "metadata": {},
   "outputs": [],
   "source": []
  }
 ],
 "metadata": {
  "kernelspec": {
   "display_name": "Python 3 (ipykernel)",
   "language": "python",
   "name": "python3"
  },
  "language_info": {
   "codemirror_mode": {
    "name": "ipython",
    "version": 3
   },
   "file_extension": ".py",
   "mimetype": "text/x-python",
   "name": "python",
   "nbconvert_exporter": "python",
   "pygments_lexer": "ipython3",
   "version": "3.9.13"
  }
 },
 "nbformat": 4,
 "nbformat_minor": 5
}
